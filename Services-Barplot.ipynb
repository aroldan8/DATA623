{
 "cells": [
  {
   "cell_type": "code",
   "execution_count": 1,
   "metadata": {},
   "outputs": [],
   "source": [
    "import numpy as np\n",
    "import pandas as pd\n",
    "import matplotlib.pyplot as plt\n",
    "from datetime import datetime\n",
    "from scipy.stats import norm\n",
    "import math"
   ]
  },
  {
   "cell_type": "code",
   "execution_count": 2,
   "metadata": {},
   "outputs": [
    {
     "data": {
      "text/html": [
       "<div>\n",
       "<style scoped>\n",
       "    .dataframe tbody tr th:only-of-type {\n",
       "        vertical-align: middle;\n",
       "    }\n",
       "\n",
       "    .dataframe tbody tr th {\n",
       "        vertical-align: top;\n",
       "    }\n",
       "\n",
       "    .dataframe thead th {\n",
       "        text-align: right;\n",
       "    }\n",
       "</style>\n",
       "<table border=\"1\" class=\"dataframe\">\n",
       "  <thead>\n",
       "    <tr style=\"text-align: right;\">\n",
       "      <th></th>\n",
       "      <th>row_id</th>\n",
       "      <th>subject_id</th>\n",
       "      <th>hadm_id</th>\n",
       "      <th>transfertime</th>\n",
       "      <th>prev_service</th>\n",
       "      <th>curr_service</th>\n",
       "    </tr>\n",
       "  </thead>\n",
       "  <tbody>\n",
       "    <tr>\n",
       "      <th>0</th>\n",
       "      <td>14974</td>\n",
       "      <td>10006</td>\n",
       "      <td>142345</td>\n",
       "      <td>2164-10-23 21:10:15</td>\n",
       "      <td>NaN</td>\n",
       "      <td>MED</td>\n",
       "    </tr>\n",
       "    <tr>\n",
       "      <th>1</th>\n",
       "      <td>14979</td>\n",
       "      <td>10011</td>\n",
       "      <td>105331</td>\n",
       "      <td>2126-08-14 22:34:00</td>\n",
       "      <td>NaN</td>\n",
       "      <td>MED</td>\n",
       "    </tr>\n",
       "    <tr>\n",
       "      <th>2</th>\n",
       "      <td>14981</td>\n",
       "      <td>10013</td>\n",
       "      <td>165520</td>\n",
       "      <td>2125-10-04 23:38:00</td>\n",
       "      <td>NaN</td>\n",
       "      <td>MED</td>\n",
       "    </tr>\n",
       "    <tr>\n",
       "      <th>3</th>\n",
       "      <td>14985</td>\n",
       "      <td>10017</td>\n",
       "      <td>199207</td>\n",
       "      <td>2149-05-26 17:21:09</td>\n",
       "      <td>NaN</td>\n",
       "      <td>MED</td>\n",
       "    </tr>\n",
       "    <tr>\n",
       "      <th>4</th>\n",
       "      <td>14986</td>\n",
       "      <td>10019</td>\n",
       "      <td>177759</td>\n",
       "      <td>2163-05-14 20:43:56</td>\n",
       "      <td>NaN</td>\n",
       "      <td>MED</td>\n",
       "    </tr>\n",
       "  </tbody>\n",
       "</table>\n",
       "</div>"
      ],
      "text/plain": [
       "   row_id  subject_id  hadm_id         transfertime prev_service curr_service\n",
       "0   14974       10006   142345  2164-10-23 21:10:15          NaN          MED\n",
       "1   14979       10011   105331  2126-08-14 22:34:00          NaN          MED\n",
       "2   14981       10013   165520  2125-10-04 23:38:00          NaN          MED\n",
       "3   14985       10017   199207  2149-05-26 17:21:09          NaN          MED\n",
       "4   14986       10019   177759  2163-05-14 20:43:56          NaN          MED"
      ]
     },
     "execution_count": 2,
     "metadata": {},
     "output_type": "execute_result"
    }
   ],
   "source": [
    "df = pd.read_csv(\"./Data MIMIC/SERVICES.csv\")#reading csv, make your the folder \"Data MIMIC\" and the name \"SERVICES.csv\" match\n",
    "df.head()"
   ]
  },
  {
   "cell_type": "code",
   "execution_count": 3,
   "metadata": {},
   "outputs": [
    {
     "data": {
      "text/plain": [
       "163"
      ]
     },
     "execution_count": 3,
     "metadata": {},
     "output_type": "execute_result"
    }
   ],
   "source": [
    "df.hadm_id.count()#counting total rows"
   ]
  },
  {
   "cell_type": "code",
   "execution_count": 4,
   "metadata": {},
   "outputs": [
    {
     "name": "stdout",
     "output_type": "stream",
     "text": [
      "12\n"
     ]
    },
    {
     "data": {
      "text/plain": [
       "array(['MED', 'NMED', 'CSURG', 'SURG', 'VSURG', 'CMED', 'OMED', 'NSURG',\n",
       "       'TSURG', 'TRAUM', 'ORTHO', 'GU'], dtype=object)"
      ]
     },
     "execution_count": 4,
     "metadata": {},
     "output_type": "execute_result"
    }
   ],
   "source": [
    "print(df.curr_service.nunique()) #unique number of services\n",
    "df.curr_service.unique() #display the unique number of services"
   ]
  },
  {
   "cell_type": "code",
   "execution_count": 5,
   "metadata": {},
   "outputs": [],
   "source": [
    "#This is just an example of how to cathegorize, for the full database go to glossary and define your own groups\n",
    "group ={ 'MED':'MEDICINE','NMED':'MEDICINE','CSURG':'SURGICAL', 'SURG':'SURGICAL','VSURG':'SURGICAL','CMED':'MEDICINE',\n",
    "           'OMED':'OTHER','NSURG':'SURGICAL', 'TSURG':'SURGICAL','TRAUM':'OTHER','ORTHO':'OTHER','GU':'OTHER'}\n",
    "df['group'] = df.curr_service.map(group)"
   ]
  },
  {
   "cell_type": "code",
   "execution_count": 6,
   "metadata": {},
   "outputs": [
    {
     "data": {
      "text/plain": [
       "MEDICINE    107\n",
       "SURGICAL     34\n",
       "OTHER        22\n",
       "Name: group, dtype: int64"
      ]
     },
     "execution_count": 6,
     "metadata": {},
     "output_type": "execute_result"
    }
   ],
   "source": [
    "df.group.value_counts() #counts"
   ]
  },
  {
   "cell_type": "code",
   "execution_count": 7,
   "metadata": {},
   "outputs": [
    {
     "data": {
      "text/plain": [
       "<BarContainer object of 3 artists>"
      ]
     },
     "execution_count": 7,
     "metadata": {},
     "output_type": "execute_result"
    },
    {
     "data": {
      "image/png": "[encoded data removed]",
      "text/plain": [
       "<Figure size 432x288 with 1 Axes>"
      ]
     },
     "metadata": {
      "needs_background": "light"
     },
     "output_type": "display_data"
    }
   ],
   "source": [
    "#Bar plot\n",
    "group = list(df.group.unique()) \n",
    "values = list(df.group.value_counts()) \n",
    "\n",
    "fig = plt.figure()\n",
    "\n",
    "# creating the bar plot \n",
    "plt.bar(group, values, color ='blue',  \n",
    "        width = 0.4) \n"
   ]
  }
 ],
 "metadata": {
  "kernelspec": {
   "display_name": "Python 3",
   "language": "python",
   "name": "python3"
  },
  "language_info": {
   "codemirror_mode": {
    "name": "ipython",
    "version": 3
   },
   "file_extension": ".py",
   "mimetype": "text/x-python",
   "name": "python",
   "nbconvert_exporter": "python",
   "pygments_lexer": "ipython3",
   "version": "3.8.5"
  }
 },
 "nbformat": 4,
 "nbformat_minor": 2
}
